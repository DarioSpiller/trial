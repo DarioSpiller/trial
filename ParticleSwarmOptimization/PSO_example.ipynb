{
 "cells": [
  {
   "cell_type": "markdown",
   "metadata": {},
   "source": [
    "# Example of PSO implementation in Python\n",
    "\n",
    "### freely inspired from \n",
    "### https://medium.com/analytics-vidhya/implementing-particle-swarm-optimization-pso-algorithm-in-python-9efc2eb179a6\n",
    "\n",
    "This code is implemented using Object-Oriented Programming (OOP).\n",
    "\n",
    "In this example the goal is to find the minimum of the function\n",
    "\n",
    "z(x,y) = x^2 + y^2 + 1"
   ]
  },
  {
   "cell_type": "code",
   "execution_count": 18,
   "metadata": {},
   "outputs": [],
   "source": [
    "import random\n",
    "import numpy as np "
   ]
  },
  {
   "cell_type": "code",
   "execution_count": 19,
   "metadata": {},
   "outputs": [
    {
     "name": "stdout",
     "output_type": "stream",
     "text": [
      "0.9560342718892494\n"
     ]
    }
   ],
   "source": [
    "# You can fix the seed of the random number generator\n",
    "random.seed(2)\n",
    "\n",
    "# Example of random number\n",
    "print(random.random())"
   ]
  },
  {
   "cell_type": "code",
   "execution_count": null,
   "metadata": {},
   "outputs": [],
   "source": [
    "# We are going to define properties and method of a single particle\n",
    "\n",
    "class Particle():\n",
    "    \n",
    "    # initialization of the class\n",
    "    def __init__(self, x_bound, y_bound):\n",
    "        #self.position = np.array([(-1)**(bool(random.getrandbits(1))) * random.random()*x_bound, \n",
    "        #                          (-1)**(bool(random.getrandbits(1))) * random.random()*y_bound])\n",
    "        self.position = np.array([(1-2*random.random())*x_bound, \n",
    "                                  (1-2*random.random())*y_bound])\n",
    "        self.pbest_position = self.position\n",
    "        self.pbest_value = float('inf')\n",
    "        self.velocity = np.array([0,0])\n",
    "\n",
    "    def __str__(self):\n",
    "        print(\"I am at \", self.position, \" my pbest is \", self.pbest_position)\n",
    "    \n",
    "    def move(self):\n",
    "        self.position = self.position + self.velocity\n",
    "\n",
    "\n",
    "class Space():\n",
    "\n",
    "    def __init__(self, target, target_error, n_particles, x_bound, y_bound):\n",
    "        self.target = target\n",
    "        self.target_error = target_error\n",
    "        self.n_particles = n_particles\n",
    "        self.particles = []  # to be filled with the class Particle()\n",
    "        self.gbest_value = float('inf')\n",
    "        self.gbest_position = np.array([random.random()*x_bound, random.random()*y_bound])\n",
    "        self.gbest_values = list(['inf'])   # saving the list of gbest values\n",
    "        \n",
    "    def print_particles(self):\n",
    "        for particle in self.particles:\n",
    "            particle.__str__()\n",
    "   \n",
    "    # definition of the cost function aka performance index aka fitness function\n",
    "    def fitness(self, position):\n",
    "        return position[0] ** 2 + position[1] ** 2 + 1\n",
    "\n",
    "    def set_pbest(self):\n",
    "        for particle in self.particles:\n",
    "            fitness_cadidate = self.fitness(particle.position)\n",
    "            if(particle.pbest_value > fitness_cadidate):\n",
    "                particle.pbest_value = fitness_cadidate\n",
    "                particle.pbest_position = particle.position      \n",
    "\n",
    "    def save_gbest_value(self):\n",
    "        #update the list of gbest values\n",
    "        self.gbest_values.append(self.gbest_value)\n",
    "        \n",
    "    def set_gbest(self):\n",
    "        for particle in self.particles:\n",
    "            best_fitness_cadidate = self.fitness(particle.position)\n",
    "            if(self.gbest_value > best_fitness_cadidate):\n",
    "                self.gbest_value = best_fitness_cadidate\n",
    "                self.gbest_position = particle.position\n",
    "\n",
    "    def move_particles(self):\n",
    "        for particle in self.particles:\n",
    "            \n",
    "            global W, c1, c2\n",
    "            new_velocity = (W*particle.velocity) + (c1*random.random()) * (particle.pbest_position - particle.position) + \\\n",
    "                            (random.random()*c2) * (self.gbest_position - particle.position)\n",
    "            particle.velocity = new_velocity\n",
    "            particle.move()\n",
    "            "
   ]
  },
  {
   "cell_type": "code",
   "execution_count": 102,
   "metadata": {},
   "outputs": [
    {
     "name": "stdout",
     "output_type": "stream",
     "text": [
      "I am at  [-39.81658116 -30.09597441]  my pbest is  [-39.81658116 -30.09597441]\n",
      "I am at  [ -7.33682998 -45.65099085]  my pbest is  [ -7.33682998 -45.65099085]\n",
      "I am at  [-27.00350869  19.94061843]  my pbest is  [-27.00350869  19.94061843]\n",
      "I am at  [-27.58736362  20.90129258]  my pbest is  [-27.58736362  20.90129258]\n",
      "I am at  [12.09103489 45.2440659 ]  my pbest is  [12.09103489 45.2440659 ]\n",
      "I am at  [ 23.02074083 -13.62228266]  my pbest is  [ 23.02074083 -13.62228266]\n",
      "I am at  [-49.55660259  20.98585973]  my pbest is  [-49.55660259  20.98585973]\n",
      "I am at  [-11.85762097 -38.79959534]  my pbest is  [-11.85762097 -38.79959534]\n",
      "I am at  [33.11174731 24.80388816]  my pbest is  [33.11174731 24.80388816]\n",
      "I am at  [-30.98972726  47.19885464]  my pbest is  [-30.98972726  47.19885464]\n",
      "I am at  [-18.95531983  -4.9022852 ]  my pbest is  [-18.95531983  -4.9022852 ]\n",
      "I am at  [-26.93052776 -48.92395044]  my pbest is  [-26.93052776 -48.92395044]\n",
      "I am at  [-29.95405155 -42.34677477]  my pbest is  [-29.95405155 -42.34677477]\n",
      "I am at  [ 1.52678326 43.0761523 ]  my pbest is  [ 1.52678326 43.0761523 ]\n",
      "I am at  [-48.69370061 -36.38259626]  my pbest is  [-48.69370061 -36.38259626]\n",
      "I am at  [-33.04133126  20.25576003]  my pbest is  [-33.04133126  20.25576003]\n",
      "I am at  [  5.58565187 -18.46400688]  my pbest is  [  5.58565187 -18.46400688]\n",
      "I am at  [-3.26099022 26.46839908]  my pbest is  [-3.26099022 26.46839908]\n",
      "I am at  [-41.64598309  -5.34533157]  my pbest is  [-41.64598309  -5.34533157]\n",
      "I am at  [22.66020187 19.52093149]  my pbest is  [22.66020187 19.52093149]\n",
      "I am at  [-44.59638163  48.89158504]  my pbest is  [-44.59638163  48.89158504]\n",
      "I am at  [-20.22176954  -4.30766615]  my pbest is  [-20.22176954  -4.30766615]\n",
      "I am at  [39.53069664  2.83702553]  my pbest is  [39.53069664  2.83702553]\n",
      "I am at  [ 2.56782379 40.75075106]  my pbest is  [ 2.56782379 40.75075106]\n",
      "I am at  [-0.78824432  8.65406253]  my pbest is  [-0.78824432  8.65406253]\n",
      "I am at  [-21.36293469  23.06969295]  my pbest is  [-21.36293469  23.06969295]\n",
      "I am at  [-2.67906341  8.32086983]  my pbest is  [-2.67906341  8.32086983]\n",
      "I am at  [37.36753036 -7.38680487]  my pbest is  [37.36753036 -7.38680487]\n",
      "I am at  [-22.48667888 -30.6414801 ]  my pbest is  [-22.48667888 -30.6414801 ]\n",
      "I am at  [-38.70081647   6.8287025 ]  my pbest is  [-38.70081647   6.8287025 ]\n"
     ]
    }
   ],
   "source": [
    "W = 0.5   # inertia weight\n",
    "c1 = 0.8  # personal best coefficient\n",
    "c2 = 0.9  # global best coefficient\n",
    "\n",
    "x_bound = 50\n",
    "y_bound = 50\n",
    "\n",
    "#n_iterations = int(input(\"Inform the number of iterations: \"))\n",
    "#target_error = float(input(\"Inform the target error: \"))\n",
    "#n_particles = int(input(\"Inform the number of particles: \"))\n",
    "\n",
    "n_iterations = 1000\n",
    "target_error = 1e-14\n",
    "n_particles = 30\n",
    "\n",
    "search_space = Space(1, target_error, n_particles, x_bound, y_bound)\n",
    "particles_vector = [Particle(x_bound, y_bound) for _ in range(search_space.n_particles)]\n",
    "search_space.particles = particles_vector\n",
    "search_space.print_particles()\n"
   ]
  },
  {
   "cell_type": "code",
   "execution_count": 103,
   "metadata": {},
   "outputs": [
    {
     "name": "stdout",
     "output_type": "stream",
     "text": [
      "The best solution is:  [1.07879572e-08 2.53799659e-08]  in n_iterations:  50\n",
      "The achieved point is:  1.0000000000000007\n"
     ]
    }
   ],
   "source": [
    "iteration = 0\n",
    "while(iteration < n_iterations):\n",
    "    search_space.set_pbest()    \n",
    "    search_space.set_gbest()\n",
    "    search_space.save_gbest_value()\n",
    "    \n",
    "    if iteration > 5:\n",
    "        goal = np.std(search_space.gbest_values[-6:-1])\n",
    "        if (goal <= search_space.target_error):\n",
    "            break\n",
    "\n",
    "    search_space.move_particles()\n",
    "    iteration += 1\n",
    "else:\n",
    "    print('The maximum number of iterations has been reached!')\n",
    "    \n",
    "print(\"The best solution is: \", search_space.gbest_position, \" in n_iterations: \", iteration)\n",
    "print(\"The achieved point is: \", search_space.fitness(search_space.gbest_position))"
   ]
  },
  {
   "cell_type": "code",
   "execution_count": null,
   "metadata": {},
   "outputs": [],
   "source": []
  }
 ],
 "metadata": {
  "kernelspec": {
   "display_name": "Python 3",
   "language": "python",
   "name": "python3"
  },
  "language_info": {
   "codemirror_mode": {
    "name": "ipython",
    "version": 3
   },
   "file_extension": ".py",
   "mimetype": "text/x-python",
   "name": "python",
   "nbconvert_exporter": "python",
   "pygments_lexer": "ipython3",
   "version": "3.7.3"
  }
 },
 "nbformat": 4,
 "nbformat_minor": 4
}
